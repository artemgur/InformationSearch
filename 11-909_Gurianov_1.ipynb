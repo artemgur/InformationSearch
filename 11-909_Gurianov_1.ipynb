{
 "cells": [
  {
   "cell_type": "markdown",
   "source": [
    "# Сбор текстовых данных через VK API\n",
    "\n",
    "1. Создайте приложения для работы с API VK;\n",
    "2. получите свой токен для автоматизации действий в соцсети;\n",
    "3. соберите не менее 2000 не пустых текстовых сообщений со стены любой открытой группы;\n",
    "4. сохраните сообщения во внешний файл для дальнейшего чтения и работы."
   ],
   "metadata": {
    "collapsed": false
   }
  },
  {
   "cell_type": "code",
   "execution_count": 18,
   "outputs": [],
   "source": [
    "import requests\n",
    "import json\n",
    "\n",
    "\n",
    "# noinspection PyShadowingNames\n",
    "def get_text(access_token, group_id, offset: int, count):\n",
    "    response_json_str = requests.get(\n",
    "        f'https://api.vk.com/method/wall.get?access_token={access_token}&v=5.194&owner_id={group_id}&count={count}&offset={offset}').text\n",
    "    parsed = json.loads(response_json_str)\n",
    "    try:\n",
    "        #return str(parsed['response']['items'][0]['text'])\n",
    "        return map(lambda x: str(x['text']), parsed['response']['items'])\n",
    "    except:\n",
    "        print(parsed)\n",
    "        raise"
   ],
   "metadata": {
    "collapsed": false
   }
  },
  {
   "cell_type": "code",
   "execution_count": 33,
   "outputs": [],
   "source": [
    "group_ids = {'itis': -35488145, 'strategium': -31092576}"
   ],
   "metadata": {
    "collapsed": false
   }
  },
  {
   "cell_type": "code",
   "execution_count": 34,
   "outputs": [],
   "source": [
    "import time\n",
    "\n",
    "access_token = \"32797754327977543279775425320fcc36332793279775452389e04a9aeaa9a29fcfab7\"\n",
    "group_id = group_ids['itis']\n",
    "\n",
    "posts_with_text_to_process = 2000\n",
    "filename = 'itis_posts.txt'\n",
    "\n",
    "posts_separator = '\\n––––––––––\\n'\n",
    "posts_per_request = 100\n",
    "\n",
    "with open(filename, 'w', encoding=\"utf-8\") as file:\n",
    "    posts_offset = 0\n",
    "    posts_with_text_found = 0\n",
    "    first_post = True\n",
    "    while True:\n",
    "        texts = list(get_text(access_token, group_id, posts_offset, count=posts_per_request))\n",
    "        if len(texts) == 0:\n",
    "            print(\"Warning! Group doesn't have enough text posts\")\n",
    "            break\n",
    "        time.sleep(0.1)\n",
    "        posts_offset += posts_per_request\n",
    "        for text in texts:\n",
    "\n",
    "            if text != '':\n",
    "                posts_with_text_found += 1\n",
    "\n",
    "                if not first_post:\n",
    "                    file.write(posts_separator)\n",
    "                else:\n",
    "                    first_post = False\n",
    "\n",
    "                file.write(text)\n",
    "\n",
    "        if posts_with_text_found >= posts_with_text_to_process:\n",
    "            break"
   ],
   "metadata": {
    "collapsed": false
   }
  }
 ],
 "metadata": {
  "kernelspec": {
   "display_name": "Python 3",
   "language": "python",
   "name": "python3"
  },
  "language_info": {
   "codemirror_mode": {
    "name": "ipython",
    "version": 2
   },
   "file_extension": ".py",
   "mimetype": "text/x-python",
   "name": "python",
   "nbconvert_exporter": "python",
   "pygments_lexer": "ipython2",
   "version": "2.7.6"
  }
 },
 "nbformat": 4,
 "nbformat_minor": 0
}
